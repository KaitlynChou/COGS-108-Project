{
 "cells": [
  {
   "cell_type": "markdown",
   "metadata": {},
   "source": [
    "# COGS 108 - Project Proposal"
   ]
  },
  {
   "cell_type": "markdown",
   "metadata": {},
   "source": [
    "# Names\n",
    "\n",
    "- Kaitlyn Chou\n",
    "- Aria Gross Villa\n",
    "- Alera Ojomoh-dermody\n",
    "- Isaac Roberts\n",
    "- Angelina Vo"
   ]
  },
  {
   "cell_type": "markdown",
   "metadata": {},
   "source": [
    "# Research Question"
   ]
  },
  {
   "cell_type": "markdown",
   "metadata": {},
   "source": [
    "Does participation (number of registered users, amount of content circulated, programs attended, etc.) at libraries in California counties correlate to CAASPP test scores (ELA and Mathematics) of students attending school in those counties?"
   ]
  },
  {
   "cell_type": "markdown",
   "metadata": {},
   "source": [
    "## Background and Prior Work"
   ]
  },
  {
   "cell_type": "markdown",
   "metadata": {},
   "source": [
    "\n",
    "Standardized tests can act as a lens through which educators and policymakers can understand various aspects of the educational system, identifying both strengths and areas in need of improvement. Analyzing standardized test results alongside teacher credentials, resource allocation, and instructional strategies provides a comprehensive view of the educational environment, fostering efforts to improve student achievement and success. The No Child Left Behind (NCLB) Act mandated that schools employ qualified educators who are certified in their state, hold a bachelor's degree, and demonstrate subject knowledge. <a name=\"cite_ref-3\"></a>[<sup>1</sup>](#cite_note-3) With the replacement of NCLB by the Every Child Succeeds Act (ECSA) in 2015, schools, or Local Education Agencies, are now obligated to report on the qualifications of educators, including the percentage of "inexperienced" teachers. <a name=\"cite_ref-3\"></a>[<sup>2</sup>](#cite_note-3) \n",
    "\n",
    "Numerous research papers have explored the influence of libraries on individual students' educational attainment. Across the three initial research sources we examined, student success was measured and defined using metrics such as GPAs, retention rates, and qualitative interviews, shedding light on students' perspectives regarding the significance of public libraries in their academic journey. Just as GPA and retention rates provide insights, CAASPP test scores in ELA and mathematics offer pathways to explore the connection between public library utilization and measurable academic achievement. While standardized testing is not the sole dependable method for gauging student progress, it remains commonly utilized to assess college readiness and academic advancement. \n",
    "\n",
    "The literature asserts that public libraries serve as invaluable resources for students from diverse socioeconomic backgrounds, offering access to a wide range of written, verbal, and digital materials. For students lacking reliable technology, libraries provide a conducive environment for studying, asking questions, and engaging in group activities, all within a quiet and secure setting. Meanwhile, school librarians act as threads, linking students and teachers to reliable, consistently accurate instruction. Libraries not only supply tangible resources to all community members but can also serve as academic equalizers for low-income students and students of color. A study conducted on Australian public libraries' impact on students living in regional or remote locations found that these students benefited significantly from utilizing library resources.<a name=\"cite_ref-2\"></a>[<sup>3</sup>](#cite_note-2) This was attributed to their access to qualified and informed assistance from librarians, as well as the diversity of materials available in libraries. A study conducted at Northern Colorado University from fall 2017 to spring 2018 revealed that a higher proportion of students of color and those eligible for Pell grants utilized library resources compared to their white or non-eligible counterparts.<a name=\"cite_ref-1\"></a>[<sup>4</sup>](#cite_note-1) The Northern Colorado University study posed several empirical questions related to student success, which could be investigated using the metrics mentioned earlier. Questions include: “How does the use of specific library services correlate with persistence for undergraduate students?” and, “Is there a positive correlation between the number of uses of library services and academic achievement for undergraduate students?”. <a name=\"cite_ref-1\"></a>[<sup>5</sup>](#cite_note-1) \n",
    "\n",
    "1. <a name=\"cite_note-1\"></a> [^](#cite_ref-1) Mayer, Jennifer; Dineen, Rachel; Rockwell, Angela; and Blodgett, Jayne. 'Undergraduate Student Success and Library Use: A Multimethod Approach.' University Libraries Faculty Publications, 2020. Available at: https://digscholarship.unco.edu/libfacpub/96 \n",
    "2. <a name=\"cite_note-2\"></a> [^](#cite_ref-2) Power, Emma et al. ''Working Together': Public Libraries Supporting Rural, Regional, and Remote Low-Socioeconomic Student Success in Partnership with Universities.' Journal Name, vol. [volume number], no. [issue number], 2019, pp. 105-125. DOI: https://doi.org/10.1080/24750158.2019.1608497\n",
    "3. <a name=\"cite_note-3\"></a> [^](#cite_ref-3) Tomasetti, Elena T. 'Factors That Contribute to a Score Increase from Eighth to Eleventh Grade on the CAASPP Mathematics Exam at Red Bluff High School.' Master's thesis, California State University, Chico, 2022.\n"
   ]
  },
  {
   "cell_type": "markdown",
   "metadata": {},
   "source": [
    "# Hypothesis\n"
   ]
  },
  {
   "cell_type": "markdown",
   "metadata": {},
   "source": [
    "We hypothesize that California counties with higher rates of activity and participation in public libraries correlate positively with higher CAASPP (California Assessment of Student Performance and Progress) test scores in both ELA and mathematics. Children who regularly visit libraries  have more exposure to reading, routine studying, tutoring, and community events that are often held by libraries. We hypothesize that this would result in those children having stronger reading comprehension and understanding of other skills that lead to them scoring higher on California standardized tests than those who don’t."
   ]
  },
  {
   "cell_type": "markdown",
   "metadata": {},
   "source": [
    "# Data"
   ]
  },
  {
   "cell_type": "markdown",
   "metadata": {},
   "source": [
    "In order to best answer our research question, we would need to analyze datasets on public library information and public school state testing statistics. We are most interested in data from the last two decades or so, beginning from 2000 and spanning at least until 2022 to observe possible effects of the pandemic. The library datasets should be organized into tables, with each observation being a public library system in California. Qualitative variables would include the libraries’ basic information, such as name, location, and county. In order to evaluate how active each library is, quantitative variables that could be helpful for us include the number of registered users, the population of the area the library serves, proportion of visitors are children, the age distribution of visitors, the amount of funding the library receives, average number of visitors per day, and average number of checkouts per day. Data on checkouts and borrower demographics is likely recorded digitally via libraries’ online systems, where borrowers’ accounts are managed and their borrowing activity is recorded, then ideally aggregated and anonymized before being made available to the public. We anticipate it may be difficult to get data on in-person library visits, as this would require libraries to monitor who goes in and out of the library and this may present privacy concerns. \n",
    "\n",
    "To measure the performance of students, the ideal dataset would present observations of each public elementary school in California along with the state testing score distributions of that school’s students. Along with the schools’ location and basic information, we would like to know how many students took the test, the proportion of students who met or exceeded standards, and the average scores for each subject. \n",
    "\n",
    "We have already found a [public library database](https://www.library.ca.gov/stats/?pageNo=1) and [CAASPP state testing results](https://caaspp-elpac.ets.org/caaspp/DashViewReportSB?ps=true&lstTestYear=2023&lstTestType=B&lstGroup=1&lstSubGroup=1&lstSchoolType=A&lstGrade=13&lstCounty=00&lstDistrict=00000&lstSchool=0000000) by year. CAASPP tests have only been administered starting 2014, and the library database with detailed yearly information only begins in 2016. This unfortunately limits the scope of our project to only recent years. Additionally, we are missing a year of test result data because the test was not administered in the 2019-2020 school year. As we keep looking for datasets, we hope to find more data that can serve as a metric for students’ academic performance."
   ]
  },
  {
   "cell_type": "markdown",
   "metadata": {},
   "source": [
    "# Ethics & Privacy"
   ]
  },
  {
   "cell_type": "markdown",
   "metadata": {},
   "source": [
    "The ideal data we have proposed is likely to produce some ethics and privacy concerns. Given our research question, one of the primary concerns we have regards the privacy of the children whose data we will be collecting. The data we wish to utilize will track participation at public libraries as well as student test scores. We understand that while parents or guardians may have consented to allow the collection of their children's data, it is unlikely that the children themselves can offer truly informed consent to have their data collected and used. For this reason, we propose to utilize only data that refrains from including all personal identifying information except for the age of children. Additionally, in our analysis, we aim to only use this data in aggregate — never singling out a single data point for commentary on that individual. Another privacy concern hinges on the fact that some of our data includes attendance rates for children's programs at public libraries. To protect the privacy and safety of the children who attend these programs, we will withhold information about the times and locations of the programs as well as consider only using the program data in aggregate by county. Lastly, considering that these libraries are public institutions, the data must be safeguarded through strong security measures to prevent hacking, data leaks, and other security breaches.\n",
    "The ethics concerns we have for our data, however, extend beyond just privacy. One issue that might arise from the data is the stigmatization of certain communities or school systems. Since we include performance data on standardized tests as well as library attendance habits, viewers may interpret these as metrics to profile certain groups or communities. In addition, inherent biases can impact the validity and fairness of research findings, which may result in overrepresentation or underrepresentation of particular demographics and socioeconomic groups. Lastly, when collecting data within communities, it is imperative to implement responsible measures and practices that leave the community feeling safe and at ease. It is important in our analysis to remind readers that standardized test scores are not a holistic measure of an individual's capabilities nor is library attendance an accurate means to assess a community's habits."
   ]
  },
  {
   "cell_type": "markdown",
   "metadata": {},
   "source": [
    "# Team Expectations "
   ]
  },
  {
   "cell_type": "markdown",
   "metadata": {},
   "source": [
    "\n",
    "Read over the [COGS108 Team Policies](https://github.com/COGS108/Projects/blob/master/COGS108_TeamPolicies.md) individually. Then, include your group’s expectations of one another for successful completion of your COGS108 project below. Discuss and agree on what all of your expectations are. Discuss how your team will communicate throughout the quarter and consider how you will communicate respectfully should conflicts arise. By including each member’s name above and by adding their name to the submission, you are indicating that you have read the COGS108 Team Policies, accept your team’s expectations below, and have every intention to fulfill them. These expectations are for your team’s use and benefit — they won’t be graded for their details.\n",
    "\n",
    "* Each team member will attend our weekly group meetings unless they indicate they cannot attend beforehand.\n",
    "* Each team member will communicate any concerns, questions, or ideas with the other team members through our designated group chat or during our group meetings.\n",
    "* Each team member will complete their designated tasks by the deadlines determined by the team unless they communicate that they need more time to complete them.\n",
    "* Each team member will contribute equally across the entire project submission.\n"
    "* Each team member will regularly check in with each other to ensure good progress is being made toward the final project."
   ]
  },
  {
   "cell_type": "markdown",
   "metadata": {},
   "source": [
    "# Project Timeline Proposal"
   ]
  },
  {
   "cell_type": "markdown",
   "metadata": {},
   "source": [
    "Specify your team's specific project timeline. An example timeline has been provided. Changes the dates, times, names, and details to fit your group's plan.\n",
    "\n",
    "If you think you will need any special resources or training outside what we have covered in COGS 108 to solve your problem, then your proposal should state these clearly. For example, if you have selected a problem that involves implementing multiple neural networks, please state this so we can make sure you know what you’re doing and so we can point you to resources you will need to implement your project. Note that you are not required to use outside methods.\n",
    "\n",
    "\n",
    "\n",
    "| Meeting Date  | Meeting Time| Completed Before Meeting  | Discuss at Meeting |\n",
    "|---|---|---|---|\n",
    "| 2/08  |  7:00 PM | Read through COGS 108 Team Policies; look for data sets about school rankings, student academic performance  | Discuss **Project Proposal**. Complete Team Expectations and Project Timeline Proposal. Assign the rest of the sections of the Project Proposal to the team members. | \n",
    "| 2/11  |  **By 10:00 PM** |  **Project Proposal Submission** |  | \n",
    "| 2/13  | 6:00 PM  | Complete assigned Project Proposal section and review group work for submission. | Discuss **Data** and Project Proposal feedback.   |\n",
    "| 2/20  | 6:00 PM  | Import and wrangle data. | Discuss Project Proposal feedback and finalize **Data**. Discuss **EDA** and project tasks.   |\n",
    "| **2/25 DEADLINE**  | **Before 11:59 PM**  | **Checkpoint #1: DATA** |  |\n",
    "| 2/27  | 6:00 PM  | Submit Data and brainstorm **EDA** approach.  | Finalize **EDA** plan and assign project **tasks**. |\n",    
    "| 3/05  | 6:00 PM  | Complete **EDA**, plan assigned tasks, outline of Analysis.  | Review **EDA**, discuss **analysis**, and finalize task plans. |\n",
    "| **3/10 DEADLINE**  | **Before 11:59 PM**  | **Checkpoint #2: EDA** |  |\n",
    "| 3/12  | 6:00 PM  | Complete Analysis and draft of results, discussion, and conclusion. | Review drafts and edit the full project draft. Plan the **video**. |\n",
    "| 3/19  | 6:00 PM  | Prepare the video script and presentation.| Review presentation and film **final video**. Submit **Final Report**. |\n",
    "| **3/20 DEADLINE**  | **Before 11:59 PM**  | **DUE Final Report, Final Video, Team Evaluation, & Post Course Survey (EC)** |  |"
   ]
  }
 ],
 "metadata": {
  "kernelspec": {
   "display_name": "Python 3 (ipykernel)",
   "language": "python",
   "name": "python3"
  },
  "language_info": {
   "codemirror_mode": {
    "name": "ipython",
    "version": 3
   },
   "file_extension": ".py",
   "mimetype": "text/x-python",
   "name": "python",
   "nbconvert_exporter": "python",
   "pygments_lexer": "ipython3",
   "version": "3.9.7"
  }
 },
 "nbformat": 4,
 "nbformat_minor": 2
}
