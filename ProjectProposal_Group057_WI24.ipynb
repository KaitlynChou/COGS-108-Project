{
 "cells": [
  {
   "cell_type": "markdown",
   "metadata": {},
   "source": [
    "# COGS 108 - Project Proposal"
   ]
  },
  {
   "cell_type": "markdown",
   "metadata": {},
   "source": [
    "# Names\n",
    "\n",
    "- Kaitlyn Chou\n",
    "- Aria Gross Villa\n",
    "- Alera Ojomoh-dermody\n",
    "- Isaac Roberts\n",
    "- Angelina Vo"
   ]
  },
  {
   "cell_type": "markdown",
   "metadata": {},
   "source": [
    "# Research Question"
   ]
  },
  {
   "cell_type": "markdown",
   "metadata": {},
   "source": [
    "-  Include a specific, clear data science question.\n",
    "-  Make sure what you're measuring (variables) to answer the question is clear\n",
    "\n",
    "What is your research question? Include the specific question you're setting out to answer. This question should be specific, answerable with data, and clear. A general question with specific subquestions is permitted. (1-2 sentences)\n",
    "\n"
   ]
  },
  {
   "cell_type": "markdown",
   "metadata": {},
   "source": [
    "## Background and Prior Work"
   ]
  },
  {
   "cell_type": "markdown",
   "metadata": {},
   "source": [
    "\n",
    "- Include a general introduction to your topic\n",
    "- Include explanation of what work has been done previously\n",
    "- Include citations or links to previous work\n",
    "\n",
    "This section will present the background and context of your topic and question in a few paragraphs. Include a general introduction to your topic and then describe what information you currently know about the topic after doing your initial research. Include references to other projects who have asked similar questions or approached similar problems. Explain what others have learned in their projects.\n",
    "\n",
    "Find some relevant prior work, and reference those sources, summarizing what each did and what they learned. Even if you think you have a totally novel question, find the most similar prior work that you can and discuss how it relates to your project.\n",
    "\n",
    "References can be research publications, but they need not be. Blogs, GitHub repositories, company websites, etc., are all viable references if they are relevant to your project. It must be clear which information comes from which references. (2-3 paragraphs, including at least 2 references)\n",
    "\n",
    " **Use inline citation through HTML footnotes to specify which references support which statements** \n",
    "\n",
    "For example: After government genocide in the 20th century, real birds were replaced with surveillance drones designed to look just like birds.<a name=\"cite_ref-1\"></a>[<sup>1</sup>](#cite_note-1) Use a minimum of 2 or 3 citations, but we prefer more.<a name=\"cite_ref-2\"></a>[<sup>2</sup>](#cite_note-2) You need enough to fully explain and back up important facts. \n",
    "\n",
    "Note that if you click a footnote number in the paragraph above it will transport you to the proper entry in the footnotes list below.  And if you click the ^ in the footnote entry, it will return you to the place in the main text where the footnote is made.\n",
    "\n",
    "To understand the HTML here, `<a name=\"#...\"> </a>` is a tag that allows you produce a named reference for a given location.  Markdown has the construciton `[text with hyperlink](#named reference)` that will produce a clickable link that transports you the named reference.\n",
    "\n",
    "1. <a name=\"cite_note-1\"></a> [^](#cite_ref-1) Lorenz, T. (9 Dec 2021) Birds Aren’t Real, or Are They? Inside a Gen Z Conspiracy Theory. *The New York Times*. https://www.nytimes.com/2021/12/09/technology/birds-arent-real-gen-z-misinformation.html \n",
    "2. <a name=\"cite_note-2\"></a> [^](#cite_ref-2) Also refs should be important to the background, not some randomly chosen vaguely related stuff. Include a web link if possible in refs as above.\n"
   ]
  },
  {
   "cell_type": "markdown",
   "metadata": {},
   "source": [
    "# Hypothesis\n"
   ]
  },
  {
   "cell_type": "markdown",
   "metadata": {},
   "source": [
    "\n",
    "- Include your team's hypothesis\n",
    "- Ensure that this hypothesis is clear to readers\n",
    "- Explain why you think this will be the outcome (what was your thinking?)\n",
    "\n",
    "What is your main hypothesis/predictions about what the answer to your question is? Briefly explain your thinking. (2-3 sentences)"
   ]
  },
  {
   "cell_type": "markdown",
   "metadata": {},
   "source": [
    "# Data"
   ]
  },
  {
   "cell_type": "markdown",
   "metadata": {},
   "source": [
    "In order to best answer our research question, we would need to analyze datasets on public library information and public school state testing statistics. We are most interested in data from the last two decades or so, beginning from 2000 and spanning at least until 2022 to observe possible effects of the pandemic. The library datasets should be organized into tables, with each observation being a public library system in California. Qualitative variables would include the libraries’ basic information, such as name, location, and county. In order to evaluate how active each library is, quantitative variables that could be helpful for us include the number of registered users, the population of the area the library serves, proportion of visitors are children, the age distribution of visitors, the amount of funding the library receives, average number of visitors per day, and average number of checkouts per day. Data on checkouts and borrower demographics is likely recorded digitally via libraries’ online systems, where borrowers’ accounts are managed and their borrowing activity is recorded, then ideally aggregated and anonymized before being made available to the public. We anticipate it may be difficult to get data on in-person library visits, as this would require libraries to monitor who goes in and out of the library and this may present privacy concerns. \n",
    "\n",
    "To measure the performance of students, the ideal dataset would present observations of each public elementary school in California along with the state testing score distributions of that school’s students. Along with the schools’ location and basic information, we would like to know how many students took the test, the proportion of students who met or exceeded standards, and the average scores for each subject. \n",
    "\n",
    "We have already found a [public library database](https://www.library.ca.gov/stats/?pageNo=1) and [CAASPP state testing results](https://caaspp-elpac.ets.org/caaspp/DashViewReportSB?ps=true&lstTestYear=2023&lstTestType=B&lstGroup=1&lstSubGroup=1&lstSchoolType=A&lstGrade=13&lstCounty=00&lstDistrict=00000&lstSchool=0000000) by year. CAASPP tests have only been administered starting 2014, and the library database with detailed yearly information only begins in 2016. This unfortunately limits the scope of our project to only recent years. Additionally, we are missing a year of test result data because the test was not administered in the 2019-2020 school year. As we keep looking for datasets, we hope to find more data that can serve as a metric for students’ academic performance."
   ]
  },
  {
   "cell_type": "markdown",
   "metadata": {},
   "source": [
    "# Ethics & Privacy"
   ]
  },
  {
   "cell_type": "markdown",
   "metadata": {},
   "source": [
    "- Thoughtful discussion of ethical concerns included\n",
    "- Ethical concerns consider the whole data science process (question asked, data collected, data being used, the bias in data, analysis, post-analysis, etc.)\n",
    "- How your group handled bias/ethical concerns clearly described\n",
    "\n",
    "Acknowledge and address any ethics & privacy related issues of your question(s), proposed dataset(s), and/or analyses. Use the information provided in lecture to guide your group discussion and thinking. If you need further guidance, check out [Deon's Ethics Checklist](http://deon.drivendata.org/#data-science-ethics-checklist). In particular:\n",
    "\n",
    "- Are there any biases/privacy/terms of use issues with the data you propsed?\n",
    "- Are there potential biases in your dataset(s), in terms of who it composes, and how it was collected, that may be problematic in terms of it allowing for equitable analysis? (For example, does your data exclude particular populations, or is it likely to reflect particular human biases in a way that could be a problem?)\n",
    "- How will you set out to detect these specific biases before, during, and after/when communicating your analysis?\n",
    "- Are there any other issues related to your topic area, data, and/or analyses that are potentially problematic in terms of data privacy and equitable impact?\n",
    "- How will you handle issues you identified?"
   ]
  },
  {
   "cell_type": "markdown",
   "metadata": {},
   "source": [
    "# Team Expectations "
   ]
  },
  {
   "cell_type": "markdown",
   "metadata": {},
   "source": [
    "\n",
    "Read over the [COGS108 Team Policies](https://github.com/COGS108/Projects/blob/master/COGS108_TeamPolicies.md) individually. Then, include your group’s expectations of one another for successful completion of your COGS108 project below. Discuss and agree on what all of your expectations are. Discuss how your team will communicate throughout the quarter and consider how you will communicate respectfully should conflicts arise. By including each member’s name above and by adding their name to the submission, you are indicating that you have read the COGS108 Team Policies, accept your team’s expectations below, and have every intention to fulfill them. These expectations are for your team’s use and benefit — they won’t be graded for their details.\n",
    "\n",
    "* *Team Expectation 1*\n",
    "* *Team Expectation 2*\n",
    "* *Team Expecation 3*\n",
    "* ..."
   ]
  },
  {
   "cell_type": "markdown",
   "metadata": {},
   "source": [
    "# Project Timeline Proposal"
   ]
  },
  {
   "cell_type": "markdown",
   "metadata": {},
   "source": [
    "Specify your team's specific project timeline. An example timeline has been provided. Changes the dates, times, names, and details to fit your group's plan.\n",
    "\n",
    "If you think you will need any special resources or training outside what we have covered in COGS 108 to solve your problem, then your proposal should state these clearly. For example, if you have selected a problem that involves implementing multiple neural networks, please state this so we can make sure you know what you’re doing and so we can point you to resources you will need to implement your project. Note that you are not required to use outside methods.\n",
    "\n",
    "\n",
    "\n",
    "| Meeting Date  | Meeting Time| Completed Before Meeting  | Discuss at Meeting |\n",
    "|---|---|---|---|\n",
    "| 2/08  |  7:00 PM | Read through COGS 108 Team Policies; look for data sets about school rankings, student academic performance  | Discuss **Project Proposal**. Complete Team Expectations and Project Timeline Proposal. Assign the rest of the sections of the Project Proposal to the team members. | \n",
    "| 2/11  |  **By 10:00 PM** |  **Project Proposal Submission** |  | \n",
    "| 2/13  | 6:00 PM  | Complete assigned Project Proposal section and review group work for submission. | Discuss **Data** and Project Proposal feedback.   |\n",
    "| 2/20  | 6:00 PM  | Import and wrangle data. | Discuss Project Proposal feedback and finalize **Data**. Discuss **EDA** and project tasks.   |\n",
    "| **2/25 DEADLINE**  | **Before 11:59 PM**  | **Checkpoint #1: DATA** |  |\n",
    "| 2/27  | 6:00 PM  | Submit Data and brainstorm **EDA** approach.  | Finalize **EDA** plan and assign project **tasks**. |\n",    
    "| 3/05  | 6:00 PM  | Complete **EDA**, plan assigned tasks, outline of Analysis.  | Review **EDA**, discuss **analysis**, and finalize task plans. |\n",
    "| **3/10 DEADLINE**  | **Before 11:59 PM**  | **Checkpoint #2: EDA** |  |\n",
    "| 3/12  | 6:00 PM  | Complete Analysis and draft of results, discussion, and conclusion. | Review drafts and edit the full project draft. Plan the **video**. |\n",
    "| 3/19  | 6:00 PM  | Prepare the video script and presentation.| Review presentation and film **final video**. Submit **Final Report**. |\n",
    "| **3/20 DEADLINE**  | **Before 11:59 PM**  | **DUE Final Report, Final Video, Team Evaluation, & Post Course Survey (EC)** |  |"
   ]
  }
 ],
 "metadata": {
  "kernelspec": {
   "display_name": "Python 3 (ipykernel)",
   "language": "python",
   "name": "python3"
  },
  "language_info": {
   "codemirror_mode": {
    "name": "ipython",
    "version": 3
   },
   "file_extension": ".py",
   "mimetype": "text/x-python",
   "name": "python",
   "nbconvert_exporter": "python",
   "pygments_lexer": "ipython3",
   "version": "3.9.7"
  }
 },
 "nbformat": 4,
 "nbformat_minor": 2
}
